{
 "cells": [
  {
   "cell_type": "markdown",
   "metadata": {},
   "source": [
    "# KPop Merchandise Price Analysis"
   ]
  },
  {
   "cell_type": "markdown",
   "metadata": {},
   "source": [
    "## We want to:\n",
    "\n",
    "We want to identify which sites offer the best deals for merchandise. This is done on several levels: which sites offer the best deals, which sites are better for particular artists, which sites offer exclusive merchandise, and so on. \n",
    "\n",
    "We will source our data from our scraped data hosted in BigQuery"
   ]
  },
  {
   "cell_type": "markdown",
   "metadata": {},
   "source": [
    "### Importing Libraries & Setting Date"
   ]
  },
  {
   "cell_type": "code",
   "execution_count": 1,
   "metadata": {},
   "outputs": [],
   "source": [
    "import pandas as pd\n",
    "import numpy as np\n",
    "from datetime import datetime\n",
    "\n",
    "\n",
    "# GCloud Authorization Stuff\n",
    "from google.cloud import bigquery\n",
    "from google.oauth2 import service_account\n",
    "\n",
    "credentials = service_account.Credentials.from_service_account_file('/Users/ericwan/Desktop/kprice-scraping-5ad2f3fdd3dc.json')\n",
    "project_id = 'kprice-scraping'\n",
    "client = bigquery.Client(credentials=credentials,project=project_id)"
   ]
  },
  {
   "cell_type": "code",
   "execution_count": 2,
   "metadata": {},
   "outputs": [],
   "source": [
    "CURR_DATE = datetime.now().strftime('%Y-%m-%d')"
   ]
  },
  {
   "cell_type": "markdown",
   "metadata": {},
   "source": [
    "### Selecting Tables From Sites"
   ]
  },
  {
   "cell_type": "markdown",
   "metadata": {},
   "source": [
    "The artists that I will examine across the sites are BTS, Chungha, Enhyphen, Red Velvet, and Twice. When creating my dataframes, I will grab prices from only these artists. "
   ]
  },
  {
   "cell_type": "code",
   "execution_count": 3,
   "metadata": {},
   "outputs": [
    {
     "data": {
      "text/html": [
       "<div>\n",
       "<style scoped>\n",
       "    .dataframe tbody tr th:only-of-type {\n",
       "        vertical-align: middle;\n",
       "    }\n",
       "\n",
       "    .dataframe tbody tr th {\n",
       "        vertical-align: top;\n",
       "    }\n",
       "\n",
       "    .dataframe thead th {\n",
       "        text-align: right;\n",
       "    }\n",
       "</style>\n",
       "<table border=\"1\" class=\"dataframe\">\n",
       "  <thead>\n",
       "    <tr style=\"text-align: right;\">\n",
       "      <th></th>\n",
       "      <th>item</th>\n",
       "      <th>price</th>\n",
       "      <th>url</th>\n",
       "      <th>is_autograph</th>\n",
       "      <th>vendor</th>\n",
       "      <th>ds</th>\n",
       "    </tr>\n",
       "  </thead>\n",
       "  <tbody>\n",
       "    <tr>\n",
       "      <th>0</th>\n",
       "      <td>CHUNG HA - 2nd Album [Bare Rare Pt. 1]</td>\n",
       "      <td>30.99</td>\n",
       "      <td>https://shop.mwave.me/en/566908001.html</td>\n",
       "      <td>True</td>\n",
       "      <td>mwave</td>\n",
       "      <td>2022-10-22</td>\n",
       "    </tr>\n",
       "    <tr>\n",
       "      <th>1</th>\n",
       "      <td>CHUNG HA - The Special Single [Killing Me]</td>\n",
       "      <td>26.99</td>\n",
       "      <td>https://shop.mwave.me/en/565405001.html</td>\n",
       "      <td>True</td>\n",
       "      <td>mwave</td>\n",
       "      <td>2022-10-22</td>\n",
       "    </tr>\n",
       "  </tbody>\n",
       "</table>\n",
       "</div>"
      ],
      "text/plain": [
       "                                         item  price  \\\n",
       "0      CHUNG HA - 2nd Album [Bare Rare Pt. 1]  30.99   \n",
       "1  CHUNG HA - The Special Single [Killing Me]  26.99   \n",
       "\n",
       "                                       url  is_autograph vendor          ds  \n",
       "0  https://shop.mwave.me/en/566908001.html          True  mwave  2022-10-22  \n",
       "1  https://shop.mwave.me/en/565405001.html          True  mwave  2022-10-22  "
      ]
     },
     "execution_count": 3,
     "metadata": {},
     "output_type": "execute_result"
    }
   ],
   "source": [
    "query = f\"\"\"\n",
    "        SELECT \n",
    "            * \n",
    "        FROM \n",
    "            `kprice-scraping.scrapeData.mwave-data` \n",
    "        WHERE \n",
    "            ds = @CURR_DATE\n",
    "            AND (\n",
    "                LOWER(item) LIKE '%bts%'\n",
    "                OR LOWER(item) LIKE '%chung%'\n",
    "                OR LOWER(item) LIKE '%enhyphen%'\n",
    "                OR LOWER(item) LIKE '%velvet%'\n",
    "                OR LOWER(item) LIKE '%twice%'\n",
    "            )\n",
    "        UNION ALL\n",
    "        SELECT \n",
    "            * \n",
    "        FROM \n",
    "            `kprice-scraping.scrapeData.musicplaza-data` \n",
    "        WHERE \n",
    "            ds = @CURR_DATE\n",
    "            AND (\n",
    "                LOWER(item) LIKE '%bts%'\n",
    "                OR LOWER(item) LIKE '%chung%'\n",
    "                OR LOWER(item) LIKE '%enhyphen%'\n",
    "                OR LOWER(item) LIKE '%velvet%'\n",
    "                OR LOWER(item) LIKE '%twice%'\n",
    "            )\n",
    "        UNION ALL\n",
    "        SELECT \n",
    "            * \n",
    "        FROM \n",
    "            `kprice-scraping.scrapeData.kpopstoreinusa-data` \n",
    "        WHERE \n",
    "            ds = @CURR_DATE\n",
    "            AND (\n",
    "                LOWER(item) LIKE '%bts%'\n",
    "                OR LOWER(item) LIKE '%chung%'\n",
    "                OR LOWER(item) LIKE '%enhyphen%'\n",
    "                OR LOWER(item) LIKE '%velvet%'\n",
    "                OR LOWER(item) LIKE '%twice%'\n",
    "            )\n",
    "        UNION ALL\n",
    "        SELECT \n",
    "            * \n",
    "        FROM \n",
    "            `kprice-scraping.scrapeData.kpopalbums-data` \n",
    "        WHERE \n",
    "            ds = @CURR_DATE\n",
    "            AND (\n",
    "                LOWER(item) LIKE '%bts%'\n",
    "                OR LOWER(item) LIKE '%chung%'\n",
    "                OR LOWER(item) LIKE '%enhyphen%'\n",
    "                OR LOWER(item) LIKE '%velvet%'\n",
    "                OR LOWER(item) LIKE '%twice%'\n",
    "            );\"\"\"\n",
    "\n",
    "job_config = bigquery.QueryJobConfig(\n",
    "    query_parameters=[\n",
    "        bigquery.ScalarQueryParameter(\n",
    "            \"CURR_DATE\",\n",
    "            \"STRING\",\n",
    "            CURR_DATE,\n",
    "        )\n",
    "    ]\n",
    ")\n",
    "\n",
    "data = client.query(query, job_config=job_config).to_dataframe()\n",
    "data.head()"
   ]
  },
  {
   "cell_type": "markdown",
   "metadata": {},
   "source": [
    "### Identifying Store Prices by Select Artists"
   ]
  },
  {
   "cell_type": "code",
   "execution_count": null,
   "metadata": {},
   "outputs": [],
   "source": []
  },
  {
   "cell_type": "code",
   "execution_count": null,
   "metadata": {},
   "outputs": [],
   "source": []
  }
 ],
 "metadata": {
  "kernelspec": {
   "display_name": "Python 3.9.7 ('base')",
   "language": "python",
   "name": "python3"
  },
  "language_info": {
   "codemirror_mode": {
    "name": "ipython",
    "version": 3
   },
   "file_extension": ".py",
   "mimetype": "text/x-python",
   "name": "python",
   "nbconvert_exporter": "python",
   "pygments_lexer": "ipython3",
   "version": "3.9.7"
  },
  "orig_nbformat": 4,
  "vscode": {
   "interpreter": {
    "hash": "2c6586c82cb513c65a19fce0e3f5561a71763fa75b25d230f0df04d024f9acd9"
   }
  }
 },
 "nbformat": 4,
 "nbformat_minor": 2
}

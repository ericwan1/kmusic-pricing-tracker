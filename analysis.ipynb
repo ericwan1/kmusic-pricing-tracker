{
 "cells": [
  {
   "cell_type": "markdown",
   "metadata": {},
   "source": [
    "# KPop Merchandise Price Analysis"
   ]
  },
  {
   "cell_type": "markdown",
   "metadata": {},
   "source": [
    "## We want to:\n",
    "\n",
    "We want to identify which sites offer the best deals for merchandise. This is done on several levels: which sites offer the best deals, which sites are better for particular artists, which sites offer exclusive merchandise, and so on. "
   ]
  },
  {
   "cell_type": "markdown",
   "metadata": {},
   "source": [
    "### Importing Libraries & Loading Data"
   ]
  },
  {
   "cell_type": "code",
   "execution_count": 1,
   "metadata": {},
   "outputs": [],
   "source": [
    "import pandas as pd\n",
    "import numpy as np\n",
    "from datetime import datetime"
   ]
  },
  {
   "cell_type": "code",
   "execution_count": 25,
   "metadata": {},
   "outputs": [],
   "source": [
    "jyp = pd.read_csv(\"jyp_shop.csv\")\n",
    "kpopalbums = pd.read_csv(\"kpopalbums_shop.csv\")\n",
    "musicplaza = pd.read_csv(\"musicplaza_shop.csv\")\n",
    "sm = pd.read_csv(\"smglobalshop_all.csv\")\n",
    "kpopstoreinusa = pd.read_csv(\"kpopstoreinusa.csv\", index_col=0)\n",
    "mwave = pd.read_csv(\"mwave.csv\")"
   ]
  },
  {
   "cell_type": "markdown",
   "metadata": {},
   "source": [
    "##### Cleaning Data to Make Central Dataframe"
   ]
  },
  {
   "cell_type": "code",
   "execution_count": 26,
   "metadata": {},
   "outputs": [],
   "source": [
    "# jypshop needs to add a vendor and prefix to URL; kpopstoreinusa needs to change availability to is_sold_out\n",
    "jyp['vendor'] = [\"jypshop\"]*len(jyp)\n",
    "jyp = jyp.rename(columns={'sold_out': 'is_sold_out'})\n",
    "jyp['url'] = 'https://en.thejypshop.com' + jyp['url'].astype(str)\n",
    "\n",
    "\n",
    "kpopstoreinusa = kpopstoreinusa.rename(columns={'availability': 'is_sold_out'})\n",
    "kpopstoreinusa['is_sold_out'] = ~kpopstoreinusa['is_sold_out']"
   ]
  },
  {
   "cell_type": "code",
   "execution_count": 27,
   "metadata": {},
   "outputs": [],
   "source": [
    "data = pd.concat([jyp, kpopalbums, musicplaza, sm, kpopstoreinusa, mwave])"
   ]
  },
  {
   "cell_type": "code",
   "execution_count": 28,
   "metadata": {},
   "outputs": [],
   "source": [
    "data.to_csv('data.csv',index=False)"
   ]
  },
  {
   "cell_type": "markdown",
   "metadata": {},
   "source": [
    "### Identifying Store Prices by Select Artists"
   ]
  }
 ],
 "metadata": {
  "kernelspec": {
   "display_name": "Python 3.9.7 ('base')",
   "language": "python",
   "name": "python3"
  },
  "language_info": {
   "codemirror_mode": {
    "name": "ipython",
    "version": 3
   },
   "file_extension": ".py",
   "mimetype": "text/x-python",
   "name": "python",
   "nbconvert_exporter": "python",
   "pygments_lexer": "ipython3",
   "version": "3.9.7"
  },
  "orig_nbformat": 4,
  "vscode": {
   "interpreter": {
    "hash": "2c6586c82cb513c65a19fce0e3f5561a71763fa75b25d230f0df04d024f9acd9"
   }
  }
 },
 "nbformat": 4,
 "nbformat_minor": 2
}

{
 "cells": [
  {
   "cell_type": "markdown",
   "metadata": {},
   "source": [
    "# KPop Merchandise Price Analysis"
   ]
  },
  {
   "cell_type": "markdown",
   "metadata": {},
   "source": [
    "## We want to:\n",
    "\n",
    "We want to identify which sites offer the best deals for merchandise. This is done on several levels: which sites offer the best deals, which sites are better for particular artists, which sites offer exclusive merchandise, and so on. "
   ]
  },
  {
   "cell_type": "markdown",
   "metadata": {},
   "source": [
    "### Importing Libraries & Loading Data"
   ]
  },
  {
   "cell_type": "code",
   "execution_count": 2,
   "metadata": {},
   "outputs": [],
   "source": [
    "import pandas as pd\n",
    "import numpy as np\n",
    "from datetime import datetime"
   ]
  },
  {
   "cell_type": "code",
   "execution_count": 3,
   "metadata": {},
   "outputs": [],
   "source": [
    "jyp = pd.read_csv(\"jyp_shop.csv\")\n",
    "kpopalbums = pd.read_csv(\"kpopalbums_shop.csv\")\n",
    "musicplaza = pd.read_csv(\"musicplaza_shop.csv\")\n",
    "sm = pd.read_csv(\"smglobalshop_all.csv\")\n",
    "kpopstoreinusa = pd.read_csv(\"kpopstoreinusa.csv\", index_col=0)\n",
    "mwave = pd.read_csv(\"mwave.csv\")"
   ]
  },
  {
   "cell_type": "markdown",
   "metadata": {},
   "source": [
    "##### Cleaning Data to Make Central Dataframe"
   ]
  },
  {
   "cell_type": "code",
   "execution_count": 4,
   "metadata": {},
   "outputs": [],
   "source": [
    "# jypshop needs to add a vendor and prefix to URL; kpopstoreinusa needs to change availability to is_sold_out\n",
    "jyp['vendor'] = [\"jypshop\"]*len(jyp)\n",
    "jyp = jyp.rename(columns={'sold_out': 'is_sold_out'})\n",
    "jyp['url'] = 'https://en.thejypshop.com' + jyp['url'].astype(str)\n",
    "\n",
    "\n",
    "kpopstoreinusa = kpopstoreinusa.rename(columns={'availability': 'is_sold_out'})\n",
    "kpopstoreinusa['is_sold_out'] = ~kpopstoreinusa['is_sold_out']"
   ]
  },
  {
   "cell_type": "code",
   "execution_count": 5,
   "metadata": {},
   "outputs": [],
   "source": [
    "data = pd.concat([jyp, kpopalbums, musicplaza, sm, kpopstoreinusa, mwave])"
   ]
  },
  {
   "cell_type": "code",
   "execution_count": 6,
   "metadata": {},
   "outputs": [],
   "source": [
    "data.to_csv('data.csv',index=False)"
   ]
  },
  {
   "cell_type": "markdown",
   "metadata": {},
   "source": [
    "### Analysis Explanation\n",
    "\n",
    "While there are plenty of kpop groups to choose from, it makes sense to compare \"competing\" groups for differences in the pricing of their products on a group level and on a store to store level. This is because while they may have distinct styles, presentation, and fanbases, these groups are competitors due to their size, fame, and relevance to their parent entertainment company. Thus, I will examine how their recent comebacks are priced on different platforms and see if some groups charge more for their merchandise, in addition to examining if there are significant price differences for the same product across the different e-commerce platforms as well. For my analysis, I will compare Twice and Red Velvet, who are from JYP and SM Entertainment respectively."
   ]
  },
  {
   "cell_type": "code",
   "execution_count": 7,
   "metadata": {},
   "outputs": [],
   "source": [
    "# Loading master data file\n",
    "data = pd.read_csv(\"data.csv\")"
   ]
  },
  {
   "cell_type": "markdown",
   "metadata": {},
   "source": [
    "#### Identifying Official Store Prices by Select Artists"
   ]
  },
  {
   "cell_type": "code",
   "execution_count": 8,
   "metadata": {},
   "outputs": [],
   "source": [
    "twice_data = data[data['item'].str.contains(\"twice\", case = False)]\n",
    "reve_data = data[data['item'].str.contains(\"red velvet|reve\", case = False)]\n",
    "bts_data = data[data['item'].str.contains(\"bts\", case = False)]"
   ]
  },
  {
   "cell_type": "code",
   "execution_count": 9,
   "metadata": {},
   "outputs": [],
   "source": [
    "# Looking at the most recent comebacks: Formula of Love: O+T=<3 & Between 1&2 for Twice, The ReVe Festival 2022 & Queendom for Red Velvet. \n",
    "twice_fol = twice_data[twice_data['item'].str.contains(\"formula\", case = False)].reset_index(drop=True)\n",
    "twice_between = twice_data[twice_data['item'].str.contains(\"between\", case = False)].reset_index(drop=True)\n",
    "reve_queendom = reve_data[reve_data['item'].str.contains(\"queendom\", case = False)].reset_index(drop=True)\n",
    "reve_feel_my_rhythm = reve_data[reve_data['item'].str.contains(\"feel|my|rhythm\", case = False)].reset_index(drop=True)"
   ]
  },
  {
   "cell_type": "code",
   "execution_count": 10,
   "metadata": {},
   "outputs": [],
   "source": [
    "pd.set_option(\"display.max_colwidth\", None)"
   ]
  },
  {
   "cell_type": "markdown",
   "metadata": {},
   "source": [
    "##### Feel My Rhythm vs Between 1&2"
   ]
  },
  {
   "cell_type": "code",
   "execution_count": 11,
   "metadata": {},
   "outputs": [
    {
     "name": "stdout",
     "output_type": "stream",
     "text": [
      "                                                                                  item  \\\n",
      "0                                                    TWICE 11th MINI ALBUM BETWEEN 1&2   \n",
      "1                                 [VIDEO CALL EVENT] TWICE 11th MINI ALBUM BETWEEN 1&2   \n",
      "2                                   [FAN SIGN EVENT] TWICE 11th MINI ALBUM BETWEEN 1&2   \n",
      "3                                      TWICE BETWEEN 1&2 BADGE - TWICE 7TH ANNIVERSARY   \n",
      "4                               TWICE - [BETWEEN 1&2] 11th Mini Album COMPLETE Version   \n",
      "5                                  TWICE - [BETWEEN 1&2] 11th Mini Album 4 Version SET   \n",
      "6                             TWICE - [BETWEEN 1&2] 11th Mini Album PATHFINDER Version   \n",
      "7                                TWICE - [BETWEEN 1&2] 11th Mini Album ARCHIVE Version   \n",
      "8                           TWICE - [BETWEEN 1&2] 11th Mini Album CRYPTOGRAPHY Version   \n",
      "9                                 TWICE - [BETWEEN 1&2] 11th Mini Album RANDOM Version   \n",
      "10      트와이스 | TWICE | 11TH MINI ALBUM [ BETWEEN 1 & 2 ] | (COMPLETE VER.) POSTER ONLY   \n",
      "11    트와이스 | TWICE | 11TH MINI ALBUM [ BETWEEN 1 & 2 ] | (PATHFINDER VER.) POSTER ONLY   \n",
      "12  트와이스 | TWICE | 11TH MINI ALBUM [ BETWEEN 1 & 2 ] | (CRYPTOGRAPHY VER.) POSTER ONLY   \n",
      "13       트와이스 | TWICE | 11TH MINI ALBUM [ BETWEEN 1 & 2 ] | (ARCHIVE VER.) POSTER ONLY   \n",
      "14                                             TWICE - [BETWEEN 1&2] SET - WITH POSTER   \n",
      "15                                             TWICE - [BETWEEN 1&2] SET - WITH POSTER   \n",
      "16                                             TWICE - [BETWEEN 1&2] SET - WITH POSTER   \n",
      "17                                             TWICE - [BETWEEN 1&2] SET - WITH POSTER   \n",
      "\n",
      "    discount_price   price          vendor is_sold_out  \n",
      "0            18.55   22.90         jypshop       False  \n",
      "1            18.55   22.90         jypshop        True  \n",
      "2            18.55   22.90         jypshop        True  \n",
      "3             0.00   12.00         jypshop        True  \n",
      "4            16.51   19.42      kpopalbums       False  \n",
      "5            63.55   74.77      kpopalbums       False  \n",
      "6            16.51   19.42      kpopalbums       False  \n",
      "7            16.51   19.42      kpopalbums       False  \n",
      "8            16.51   19.42      kpopalbums       False  \n",
      "9            15.68   18.45      kpopalbums       False  \n",
      "10             NaN    3.99      musicplaza       False  \n",
      "11             NaN    3.99      musicplaza       False  \n",
      "12             NaN    3.99      musicplaza       False  \n",
      "13             NaN    3.99      musicplaza       False  \n",
      "14             NaN  103.99  kpopstoreinusa       False  \n",
      "15             NaN  103.99  kpopstoreinusa       False  \n",
      "16             NaN  103.99  kpopstoreinusa       False  \n",
      "17             NaN  103.99  kpopstoreinusa       False  \n"
     ]
    }
   ],
   "source": [
    "twice_b_subset = twice_between[[\"item\",\"discount_price\",\"price\",\"vendor\",\"is_sold_out\"]]\n",
    "print(twice_b_subset)"
   ]
  },
  {
   "cell_type": "code",
   "execution_count": 12,
   "metadata": {},
   "outputs": [
    {
     "name": "stdout",
     "output_type": "stream",
     "text": [
      "                                                                                                       item  \\\n",
      "0                      RED VELVET - [The ReVe Festival 2022 : Feel My Rhythm] Mimi Album ReVe 2 Version SET   \n",
      "1                    RED VELVET - [The ReVe Festival 2022 : Feel My Rhythm] Mimi Album ReVe CALMATO Version   \n",
      "2                RED VELVET - [The ReVe Festival 2022 : Feel My Rhythm] Mimi Album ReVe CAPRICCIOSO Version   \n",
      "3                     RED VELVET - [The ReVe Festival 2022 : Feel My Rhythm] Mimi Album ReVe RANDOM Version   \n",
      "4                           RED VELVET - [The ReVe Festival 2022 : Feel My Rhythm] Mimi Album ORGEL Version   \n",
      "5                RED VELVET - [The ReVe Festival 2022 : Feel My Rhythm] Mimi Album ReVe CAPRICCIOSO Version   \n",
      "6                     RED VELVET - [The ReVe Festival 2022 : Feel My Rhythm] Mimi Album ReVe RANDOM Version   \n",
      "7                    RED VELVET - [The ReVe Festival 2022 : Feel My Rhythm] Mimi Album ReVe CALMATO Version   \n",
      "8                      RED VELVET - [The ReVe Festival 2022 : Feel My Rhythm] Mimi Album ReVe 2 Version SET   \n",
      "9                                     레드벨벳 | RED VELVET THE ReVe Festival 2022: Feel My Rhythm | Orgel VER.   \n",
      "10                                     레드벨벳 | RED VELVET THE ReVe Festival 2022: Feel My Rhythm | ReVe VER.   \n",
      "11   레드벨벳 | RED VELVET | MINI ALBUM [ THE REVE FESTIVAL 2022 : FEEL MY RHYTHM ] | (REVE VER. C) POSTER ONLY   \n",
      "12   레드벨벳 | RED VELVET | MINI ALBUM [ THE REVE FESTIVAL 2022 : FEEL MY RHYTHM ] | (REVE VER. B) POSTER ONLY   \n",
      "13   레드벨벳 | RED VELVET | MINI ALBUM [ THE REVE FESTIVAL 2022 : FEEL MY RHYTHM ] | (REVE VER. A) POSTER ONLY   \n",
      "14  레드벨벳 | RED VELVET | MINI ALBUM [ THE REVE FESTIVAL 2022 : FEEL MY RHYTHM ] | (ORGEL VER. B) POSTER ONLY   \n",
      "15  레드벨벳 | RED VELVET | MINI ALBUM [ THE REVE FESTIVAL 2022 : FEEL MY RHYTHM ] | (ORGEL VER. A) POSTER ONLY   \n",
      "16                                  Pre-Order - Red Velvet 'Feel My Rhythm’ Necklace + Exclusive Photo Card   \n",
      "17                     Pre-Order - Red Velvet 'Feel My Rhythm’ Bucket Bag with Pouch + Exclusive Photo Card   \n",
      "18                             Red Velvet Mini Album 'The ReVe Festival 2022 - Feel My Rhythm' (Orgel Ver.)   \n",
      "19                               Red Velvet Mini Album ’The ReVe Festival 2022 - Feel My Rhythm’(ReVe Ver.)   \n",
      "20               레드벨벳 (Red Velvet) - ’The ReVe Festival 2022 - Feel My Rhythm’ (Orgel Ver.) Limited MINI CD   \n",
      "21                          레드벨벳 (Red Velvet) - ’The ReVe Festival 2022 - Feel My Rhythm’ (ReVe Ver.) [SET]   \n",
      "22                     레드벨벳 (Red Velvet) - ’The ReVe Festival 2022 - Feel My Rhythm’ (ReVe Ver.) - PINK VER   \n",
      "23               레드벨벳 (Red Velvet) - ’The ReVe Festival 2022 - Feel My Rhythm’ (Orgel Ver.) Limited MINI CD   \n",
      "24                          레드벨벳 (Red Velvet) - ’The ReVe Festival 2022 - Feel My Rhythm’ (ReVe Ver.) [SET]   \n",
      "25                     레드벨벳 (Red Velvet) - ’The ReVe Festival 2022 - Feel My Rhythm’ (ReVe Ver.) - PINK VER   \n",
      "26               레드벨벳 (Red Velvet) - ’The ReVe Festival 2022 - Feel My Rhythm’ (Orgel Ver.) Limited MINI CD   \n",
      "27                          레드벨벳 (Red Velvet) - ’The ReVe Festival 2022 - Feel My Rhythm’ (ReVe Ver.) [SET]   \n",
      "28                     레드벨벳 (Red Velvet) - ’The ReVe Festival 2022 - Feel My Rhythm’ (ReVe Ver.) - PINK VER   \n",
      "29               레드벨벳 (Red Velvet) - ’The ReVe Festival 2022 - Feel My Rhythm’ (Orgel Ver.) Limited MINI CD   \n",
      "30                          레드벨벳 (Red Velvet) - ’The ReVe Festival 2022 - Feel My Rhythm’ (ReVe Ver.) [SET]   \n",
      "31                     레드벨벳 (Red Velvet) - ’The ReVe Festival 2022 - Feel My Rhythm’ (ReVe Ver.) - PINK VER   \n",
      "\n",
      "    discount_price  price          vendor is_sold_out  \n",
      "0            31.53  39.41      kpopalbums       False  \n",
      "1            15.16  20.21      kpopalbums       False  \n",
      "2            15.16  20.21      kpopalbums       False  \n",
      "3            13.44  19.20      kpopalbums       False  \n",
      "4            17.18  20.21      kpopalbums       False  \n",
      "5            15.16  20.21      kpopalbums       False  \n",
      "6            13.44  19.20      kpopalbums       False  \n",
      "7            15.16  20.21      kpopalbums       False  \n",
      "8            31.53  39.41      kpopalbums       False  \n",
      "9              NaN  25.99      musicplaza       False  \n",
      "10             NaN  24.99      musicplaza       False  \n",
      "11             NaN   5.99      musicplaza        True  \n",
      "12             NaN   5.99      musicplaza        True  \n",
      "13             NaN   5.99      musicplaza        True  \n",
      "14             NaN   5.99      musicplaza        True  \n",
      "15             NaN   5.99      musicplaza        True  \n",
      "16             NaN  35.00    smglobalshop       False  \n",
      "17             NaN  50.00    smglobalshop       False  \n",
      "18             NaN  26.00    smglobalshop        True  \n",
      "19             NaN  26.00    smglobalshop        True  \n",
      "20             NaN  24.99  kpopstoreinusa       False  \n",
      "21             NaN  49.99  kpopstoreinusa        True  \n",
      "22             NaN  24.99  kpopstoreinusa        True  \n",
      "23             NaN  24.99  kpopstoreinusa       False  \n",
      "24             NaN  49.99  kpopstoreinusa        True  \n",
      "25             NaN  24.99  kpopstoreinusa        True  \n",
      "26             NaN  24.99  kpopstoreinusa       False  \n",
      "27             NaN  49.99  kpopstoreinusa        True  \n",
      "28             NaN  24.99  kpopstoreinusa        True  \n",
      "29             NaN  24.99  kpopstoreinusa       False  \n",
      "30             NaN  49.99  kpopstoreinusa        True  \n",
      "31             NaN  24.99  kpopstoreinusa        True  \n"
     ]
    }
   ],
   "source": [
    "reve_fmr_subset = reve_feel_my_rhythm[[\"item\",\"discount_price\",\"price\",\"vendor\",\"is_sold_out\"]]\n",
    "print(reve_fmr_subset)"
   ]
  },
  {
   "cell_type": "markdown",
   "metadata": {},
   "source": [
    "Looking at the prices, we find that Between 1&2 sells for $18.55 pre tax on the official JYP site, but is $2.04 cheaper on kpopalbums.com. The other sites in our scraped data do not sell the albums individually, but instead bundle them as a set - however, this set costs significantly more on kpopstoreinusa by about $40. Factoring in the posters, we find that the complete set, with posters, on kpopstoreinusa is still about $20 to $24 more expensive. As all of these sites do not include shipping, it would appear Kpopalbums is the better site to go to. \n",
    "\n",
    "A similar case is found with Red Velvet's Feel my Rhythm. The official store prices are several dollars higher than third party sites, but the difference is partially offset by the existence of exclusive collectibles that are nto found on other merchant sites. Kpopalbums.com, again, appears to be the overall cheapest site for albums and merchandise. "
   ]
  },
  {
   "cell_type": "markdown",
   "metadata": {},
   "source": [
    "##### Queendom vs Formula of Love"
   ]
  },
  {
   "cell_type": "code",
   "execution_count": 13,
   "metadata": {},
   "outputs": [
    {
     "name": "stdout",
     "output_type": "stream",
     "text": [
      "                                                                                          item  \\\n",
      "0                                                      TWICE 3rd Album Formula of Love: O+T=<3   \n",
      "1                              TWICE - [FORMULA OF LOVE: O+T=<3] 3rd Album RESULT FILE Version   \n",
      "2                                 TWICE - [FORMULA OF LOVE: O+T=<3] 3rd Album BREAK IT Version   \n",
      "3                             TWICE - [FORMULA OF LOVE: O+T=<3] 3rd Album FULL OF LOVE Version   \n",
      "4                                   TWICE - [FORMULA OF LOVE: O+T=<3] 3rd Album RANDOM Version   \n",
      "5                                    TWICE - [FORMULA OF LOVE: O+T=<3] 3rd Album 4 Version SET   \n",
      "6                                TWICE - [FORMULA OF LOVE: O+T=<3] 3rd Album EXPLOSION Version   \n",
      "7                         TWICE - [FORMULA OF LOVE: O+T=<3] 3rd Album STUDY ABOUT LOVE Version   \n",
      "8                                          트와이스 | TWICE 3RD ALBUM [ FORMULA OF LOVE : O+T=<3 ]   \n",
      "9                         트와이스 | TWICE 3RD ALBUM [ FORMULA OF LOVE : O+T=<3 ] RESULT FILE VER.   \n",
      "10                               트와이스 | TWICE 3RD ALBUM [ FORMULA OF LOVE : O+T=<3 ] MONOGRAPH   \n",
      "11      트와이스 | TWICE | 3RD ALBUM [ FORMULA OF LOVE: O+T=<3 ] | (FULL OF LOVE VER.) POSTER ONLY   \n",
      "12         트와이스 | TWICE | 3RD ALBUM [ FORMULA OF LOVE: O+T=<3 ] | (EXPLOSION VER.) POSTER ONLY   \n",
      "13          트와이스 | TWICE | 3RD ALBUM [ FORMULA OF LOVE: O+T=<3 ] | (BREAK IT VER.) POSTER ONLY   \n",
      "14  트와이스 | TWICE | 3RD ALBUM [ FORMULA OF LOVE: O+T=<3 ] | (STUDY ABOUT LOVE VER.) POSTER ONLY   \n",
      "15                                                           TWICE [Formula of Love] Monograph   \n",
      "16                                      TWICE - [Formula of Love: O+T= < 3] (Result file ver.)   \n",
      "17                         TWICE - [Formula of Love: O+T=<3] - FULL OF LOVE VER. (WITH POSTER)   \n",
      "18                                                           TWICE [Formula of Love] Monograph   \n",
      "19                                      TWICE - [Formula of Love: O+T= < 3] (Result file ver.)   \n",
      "20                         TWICE - [Formula of Love: O+T=<3] - FULL OF LOVE VER. (WITH POSTER)   \n",
      "21                                                           TWICE [Formula of Love] Monograph   \n",
      "22                                      TWICE - [Formula of Love: O+T= < 3] (Result file ver.)   \n",
      "23                         TWICE - [Formula of Love: O+T=<3] - FULL OF LOVE VER. (WITH POSTER)   \n",
      "24                                                           TWICE [Formula of Love] Monograph   \n",
      "25                                      TWICE - [Formula of Love: O+T= < 3] (Result file ver.)   \n",
      "26                         TWICE - [Formula of Love: O+T=<3] - FULL OF LOVE VER. (WITH POSTER)   \n",
      "\n",
      "    discount_price  price          vendor is_sold_out  \n",
      "0            17.82  22.00         jypshop       False  \n",
      "1            13.24  15.58      kpopalbums       False  \n",
      "2            18.63    NaN      kpopalbums       False  \n",
      "3            18.63    NaN      kpopalbums       False  \n",
      "4            17.70    NaN      kpopalbums       False  \n",
      "5            71.73    NaN      kpopalbums       False  \n",
      "6            18.63    NaN      kpopalbums       False  \n",
      "7            18.63    NaN      kpopalbums       False  \n",
      "8              NaN  25.99      musicplaza       False  \n",
      "9              NaN  23.99      musicplaza       False  \n",
      "10             NaN  65.99      musicplaza        True  \n",
      "11             NaN   3.99      musicplaza       False  \n",
      "12             NaN   3.99      musicplaza       False  \n",
      "13             NaN   3.99      musicplaza       False  \n",
      "14             NaN   3.99      musicplaza       False  \n",
      "15             NaN  45.99  kpopstoreinusa        True  \n",
      "16             NaN  23.99  kpopstoreinusa       False  \n",
      "17             NaN  29.99  kpopstoreinusa        True  \n",
      "18             NaN  45.99  kpopstoreinusa        True  \n",
      "19             NaN  23.99  kpopstoreinusa       False  \n",
      "20             NaN  29.99  kpopstoreinusa        True  \n",
      "21             NaN  45.99  kpopstoreinusa        True  \n",
      "22             NaN  23.99  kpopstoreinusa       False  \n",
      "23             NaN  29.99  kpopstoreinusa        True  \n",
      "24             NaN  45.99  kpopstoreinusa        True  \n",
      "25             NaN  23.99  kpopstoreinusa       False  \n",
      "26             NaN  29.99  kpopstoreinusa        True  \n"
     ]
    }
   ],
   "source": [
    "twice_fol_subset = twice_fol[[\"item\",\"discount_price\",\"price\",\"vendor\",\"is_sold_out\"]]\n",
    "print(twice_fol_subset)"
   ]
  },
  {
   "cell_type": "code",
   "execution_count": 14,
   "metadata": {},
   "outputs": [
    {
     "name": "stdout",
     "output_type": "stream",
     "text": [
      "                                                                                                      item  \\\n",
      "0                                                     RED VELVET - [QUEENDOM] 6th Mini Album GIRLS Version   \n",
      "1                                       RED VELVET - [QUEENDOM] 6th Mini Album QUEENS Version RANDOM Cover   \n",
      "2                                                     RED VELVET - [QUEENDOM] 6th Mini Album GIRLS Version   \n",
      "3                                              레드벨벳 | RED VELVET 6TH MINI ALBUM [ QUEENDOM ] GIRLS VERSION   \n",
      "4                                             레드벨벳 | RED VELVET 6TH MINI ALBUM [ QUEENDOM ] QUEENS VERSION   \n",
      "5                                           레드벨벳 | RED VELVET [ INTERVIEW VOL. 7: QUEENDOM ] POSTCARD BOOK   \n",
      "6                           레드벨벳 | RED VELVET | 6TH MINI ALBUM [ QUEENDOM ] | (GIRLS - B VER.) POSTER ONLY   \n",
      "7                           레드벨벳 | RED VELVET | 6TH MINI ALBUM [ QUEENDOM ] | (GIRLS - A VER.) POSTER ONLY   \n",
      "8                          레드벨벳 | RED VELVET | 6TH MINI ALBUM [ QUEENDOM ] | (QUEENS - B VER.) POSTER ONLY   \n",
      "9                          레드벨벳 | RED VELVET | 6TH MINI ALBUM [ QUEENDOM ] | (QUEENS - A VER.) POSTER ONLY   \n",
      "10            Pre-Order -  Red Velvet 'Queendom' Cardigan and Crewneck Socks Set with Exclusive Photo Card   \n",
      "11                                 Pre-Order -  Red Velvet 'Queendom' Pajama Set with Exclusive Photo Card   \n",
      "12                                     Red Velvet 'Queendom' Acrylic Coaster Set with Exclusive Photo Card   \n",
      "13              Beyond LIVE – Red Velvet Online Fanmeeting - inteRView vol.7 : Queendom - Layered Film Set   \n",
      "14  Beyond LIVE – Red Velvet Online Fanmeeting - inteRView vol.7 : Queendom - Clear Fan + Deco Sticker Set   \n",
      "15    Beyond LIVE – Red Velvet Online Fanmeeting - inteRView vol.7 : Queendom - Hand Drawn Acrylic Keyring   \n",
      "16                       레드벨벳 (Red Velvet) - 미니6집 [Queendom] (Girls Ver.) - Album ( with unfolded poster )   \n",
      "17                      레드벨벳 (Red Velvet) - 미니6집 [Queendom] (Queens Ver.) - Album ( with unfolded poster )   \n",
      "18                       레드벨벳 (Red Velvet) - 미니6집 [Queendom] (Girls Ver.) - Album ( with unfolded poster )   \n",
      "19                      레드벨벳 (Red Velvet) - 미니6집 [Queendom] (Queens Ver.) - Album ( with unfolded poster )   \n",
      "20                       레드벨벳 (Red Velvet) - 미니6집 [Queendom] (Girls Ver.) - Album ( with unfolded poster )   \n",
      "21                      레드벨벳 (Red Velvet) - 미니6집 [Queendom] (Queens Ver.) - Album ( with unfolded poster )   \n",
      "22                       레드벨벳 (Red Velvet) - 미니6집 [Queendom] (Girls Ver.) - Album ( with unfolded poster )   \n",
      "23                      레드벨벳 (Red Velvet) - 미니6집 [Queendom] (Queens Ver.) - Album ( with unfolded poster )   \n",
      "\n",
      "    discount_price  price          vendor is_sold_out  \n",
      "0            16.17  20.21      kpopalbums       False  \n",
      "1            15.36  19.20      kpopalbums       False  \n",
      "2            16.17  20.21      kpopalbums       False  \n",
      "3              NaN  26.99      musicplaza       False  \n",
      "4              NaN  25.99      musicplaza       False  \n",
      "5              NaN  21.99      musicplaza        True  \n",
      "6              NaN   3.99      musicplaza       False  \n",
      "7              NaN   3.99      musicplaza       False  \n",
      "8              NaN   3.99      musicplaza       False  \n",
      "9              NaN   3.99      musicplaza       False  \n",
      "10             NaN  78.00    smglobalshop       False  \n",
      "11             NaN  78.00    smglobalshop       False  \n",
      "12             NaN  28.00    smglobalshop        True  \n",
      "13             NaN  12.00    smglobalshop       False  \n",
      "14             NaN  15.00    smglobalshop       False  \n",
      "15             NaN  15.00    smglobalshop       False  \n",
      "16             NaN  30.99  kpopstoreinusa        True  \n",
      "17             NaN  30.99  kpopstoreinusa       False  \n",
      "18             NaN  30.99  kpopstoreinusa        True  \n",
      "19             NaN  30.99  kpopstoreinusa       False  \n",
      "20             NaN  30.99  kpopstoreinusa        True  \n",
      "21             NaN  30.99  kpopstoreinusa       False  \n",
      "22             NaN  30.99  kpopstoreinusa        True  \n",
      "23             NaN  30.99  kpopstoreinusa       False  \n"
     ]
    }
   ],
   "source": [
    "reve_queendom_subset = reve_queendom[[\"item\",\"discount_price\",\"price\",\"vendor\",\"is_sold_out\"]]\n",
    "print(reve_queendom_subset)"
   ]
  },
  {
   "cell_type": "markdown",
   "metadata": {},
   "source": [
    "The prices for Formula of Love are much less varied between the different sites - while kpopalbums.com appears to still sell its items at a slightly better price it is not clear which site is immediately the best one due to the variability in shipping cost. As for Queendom, it appears that kpopalbums.com has the cheaper album and merchandise prices, but there are exclusive items that are only available through the official SM Entertainment site. \n",
    "\n",
    "From the four albums we have looked at, it is appears that kpopalbums.com is the go-to site for buying albums, while the official shop sites are useful solely for exlusive merchandise. That being said, there appears to be merchandise that can only be found on certain e-commerce sites too, so if someone wants to purchase merchandise that is no longer carried in the official site then kpopstoreinusa and musicplaza appear to be the best options for them. \n",
    "\n",
    "It also appears that there is not too significant of a difference in album and merchandise pricing, but it does appear that Red Velvet prices generally skew higher. However, this is not a very strong claim, as the groups also sell different exclusive merchandise. "
   ]
  },
  {
   "cell_type": "markdown",
   "metadata": {},
   "source": [
    "##### Platform Product Availability"
   ]
  },
  {
   "cell_type": "markdown",
   "metadata": {},
   "source": [
    "Given that we have identified kpopalbums.com as our general \"go-to\" site for most kpop merchandise, the next step is to gauge product availability. "
   ]
  },
  {
   "cell_type": "code",
   "execution_count": 19,
   "metadata": {},
   "outputs": [
    {
     "name": "stdout",
     "output_type": "stream",
     "text": [
      "missing items total: 98\n",
      "total number of rows: 4976\n"
     ]
    }
   ],
   "source": [
    "print(\"missing items total (kpopalbums): \" + str(len(kpopalbums[kpopalbums['is_sold_out'] == True])))\n",
    "print(\"total number of rows (kpopalbums): \" + str(len(kpopalbums)))"
   ]
  },
  {
   "cell_type": "code",
   "execution_count": 20,
   "metadata": {},
   "outputs": [
    {
     "name": "stdout",
     "output_type": "stream",
     "text": [
      "missing items total (musicplaza): 2401\n",
      "total number of rows (musicplaza): 7011\n"
     ]
    }
   ],
   "source": [
    "print(\"missing items total (musicplaza): \" + str(len(musicplaza[musicplaza['is_sold_out'] == True])))\n",
    "print(\"total number of rows (musicplaza): \" + str(len(musicplaza)))"
   ]
  },
  {
   "cell_type": "code",
   "execution_count": 21,
   "metadata": {},
   "outputs": [
    {
     "name": "stdout",
     "output_type": "stream",
     "text": [
      "missing items total (kpopstoreinusa): 3341\n",
      "total number of rows (kpopstoreinusa): 10222\n"
     ]
    }
   ],
   "source": [
    "print(\"missing items total (kpopstoreinusa): \" + str(len(kpopstoreinusa[kpopstoreinusa['is_sold_out'] == True])))\n",
    "print(\"total number of rows (kpopstoreinusa): \" + str(len(kpopstoreinusa)))"
   ]
  },
  {
   "cell_type": "markdown",
   "metadata": {},
   "source": [
    "With roughly 2% of items being sold out, kpopalbums.com appears to be doing very well, especially in comparison to other third party sites such as musicplaza and kpopstoreinusa. While there is a wider range of merchandise available at kpopstoreinusa, it may be a better strategy to first check kpopalbums before moving on to kpopstoreinusa when comparing prices for popular, more likely to be in-demand items like an album or EP from a popular artist. "
   ]
  }
 ],
 "metadata": {
  "kernelspec": {
   "display_name": "Python 3.9.7 ('base')",
   "language": "python",
   "name": "python3"
  },
  "language_info": {
   "codemirror_mode": {
    "name": "ipython",
    "version": 3
   },
   "file_extension": ".py",
   "mimetype": "text/x-python",
   "name": "python",
   "nbconvert_exporter": "python",
   "pygments_lexer": "ipython3",
   "version": "3.9.7"
  },
  "orig_nbformat": 4,
  "vscode": {
   "interpreter": {
    "hash": "2c6586c82cb513c65a19fce0e3f5561a71763fa75b25d230f0df04d024f9acd9"
   }
  }
 },
 "nbformat": 4,
 "nbformat_minor": 2
}
